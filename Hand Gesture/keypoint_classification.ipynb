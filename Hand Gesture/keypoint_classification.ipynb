{
 "cells": [
  {
   "cell_type": "code",
   "execution_count": 1,
   "metadata": {},
   "outputs": [],
   "source": [
    "import csv\n",
    "\n",
    "import numpy as np\n",
    "import tensorflow as tf\n",
    "from sklearn.model_selection import train_test_split\n",
    "\n",
    "RANDOM_SEED = 42"
   ]
  },
  {
   "cell_type": "markdown",
   "metadata": {},
   "source": [
    "# 各パス指定"
   ]
  },
  {
   "cell_type": "code",
   "execution_count": 2,
   "metadata": {},
   "outputs": [],
   "source": [
    "dataset = 'model/keypoint_classifier/keypoint.csv'\n",
    "model_save_path = 'model/keypoint_classifier/keypoint_classifier.hdf5'"
   ]
  },
  {
   "cell_type": "markdown",
   "metadata": {},
   "source": [
    "# 分類数設定"
   ]
  },
  {
   "cell_type": "code",
   "execution_count": 3,
   "metadata": {},
   "outputs": [],
   "source": [
    "NUM_CLASSES = 10"
   ]
  },
  {
   "cell_type": "markdown",
   "metadata": {},
   "source": [
    "# 学習データ読み込み"
   ]
  },
  {
   "cell_type": "code",
   "execution_count": 4,
   "metadata": {},
   "outputs": [],
   "source": [
    "X_dataset = np.loadtxt(dataset, delimiter=',', dtype='float32', usecols=list(range(1, (21 * 2) + 1)))"
   ]
  },
  {
   "cell_type": "code",
   "execution_count": 5,
   "metadata": {},
   "outputs": [],
   "source": [
    "y_dataset = np.loadtxt(dataset, delimiter=',', dtype='int32', usecols=(0))"
   ]
  },
  {
   "cell_type": "code",
   "execution_count": 6,
   "metadata": {},
   "outputs": [],
   "source": [
    "X_train, X_test, y_train, y_test = train_test_split(X_dataset, y_dataset, train_size=0.75, random_state=RANDOM_SEED)"
   ]
  },
  {
   "cell_type": "markdown",
   "metadata": {},
   "source": [
    "# モデル構築"
   ]
  },
  {
   "cell_type": "code",
   "execution_count": 7,
   "metadata": {},
   "outputs": [],
   "source": [
    "model = tf.keras.models.Sequential([\n",
    "    tf.keras.layers.Input((21 * 2, )),\n",
    "    tf.keras.layers.Dropout(0.2),\n",
    "    tf.keras.layers.Dense(20, activation='relu'),\n",
    "    tf.keras.layers.Dropout(0.4),\n",
    "    tf.keras.layers.Dense(10, activation='relu'),\n",
    "    tf.keras.layers.Dense(NUM_CLASSES, activation='softmax')\n",
    "])"
   ]
  },
  {
   "cell_type": "code",
   "execution_count": 8,
   "metadata": {},
   "outputs": [
    {
     "name": "stdout",
     "output_type": "stream",
     "text": [
      "Model: \"sequential\"\n",
      "_________________________________________________________________\n",
      " Layer (type)                Output Shape              Param #   \n",
      "=================================================================\n",
      " dropout (Dropout)           (None, 42)                0         \n",
      "                                                                 \n",
      " dense (Dense)               (None, 20)                860       \n",
      "                                                                 \n",
      " dropout_1 (Dropout)         (None, 20)                0         \n",
      "                                                                 \n",
      " dense_1 (Dense)             (None, 10)                210       \n",
      "                                                                 \n",
      " dense_2 (Dense)             (None, 10)                110       \n",
      "                                                                 \n",
      "=================================================================\n",
      "Total params: 1,180\n",
      "Trainable params: 1,180\n",
      "Non-trainable params: 0\n",
      "_________________________________________________________________\n"
     ]
    }
   ],
   "source": [
    "model.summary()  # tf.keras.utils.plot_model(model, show_shapes=True)"
   ]
  },
  {
   "cell_type": "code",
   "execution_count": 9,
   "metadata": {},
   "outputs": [],
   "source": [
    "# モデルチェックポイントのコールバック\n",
    "cp_callback = tf.keras.callbacks.ModelCheckpoint(\n",
    "    model_save_path, verbose=1, save_weights_only=False)\n",
    "# 早期打ち切り用コールバック\n",
    "es_callback = tf.keras.callbacks.EarlyStopping(patience=20, verbose=1)"
   ]
  },
  {
   "cell_type": "code",
   "execution_count": 10,
   "metadata": {},
   "outputs": [],
   "source": [
    "# モデルコンパイル\n",
    "model.compile(\n",
    "    optimizer='adam',\n",
    "    loss='sparse_categorical_crossentropy',\n",
    "    metrics=['accuracy']\n",
    ")"
   ]
  },
  {
   "cell_type": "markdown",
   "metadata": {},
   "source": [
    "# モデル訓練"
   ]
  },
  {
   "cell_type": "code",
   "execution_count": 11,
   "metadata": {
    "scrolled": true
   },
   "outputs": [
    {
     "name": "stdout",
     "output_type": "stream",
     "text": [
      "Epoch 1/1000\n",
      " 1/50 [..............................] - ETA: 6s - loss: 2.4267 - accuracy: 0.0703"
     ]
    },
    {
     "name": "stderr",
     "output_type": "stream",
     "text": [
      "2023-07-12 13:54:37.317346: W tensorflow/core/platform/profile_utils/cpu_utils.cc:128] Failed to get CPU frequency: 0 Hz\n"
     ]
    },
    {
     "name": "stdout",
     "output_type": "stream",
     "text": [
      "\n",
      "Epoch 1: saving model to model/keypoint_classifier/keypoint_classifier.hdf5\n",
      "50/50 [==============================] - 0s 2ms/step - loss: 2.2957 - accuracy: 0.1291 - val_loss: 2.2095 - val_accuracy: 0.2030\n",
      "Epoch 2/1000\n",
      " 1/50 [..............................] - ETA: 0s - loss: 2.2593 - accuracy: 0.1719\n",
      "Epoch 2: saving model to model/keypoint_classifier/keypoint_classifier.hdf5\n",
      "50/50 [==============================] - 0s 870us/step - loss: 2.1960 - accuracy: 0.1960 - val_loss: 2.1080 - val_accuracy: 0.2721\n",
      "Epoch 3/1000\n",
      " 1/50 [..............................] - ETA: 0s - loss: 2.1874 - accuracy: 0.1875\n",
      "Epoch 3: saving model to model/keypoint_classifier/keypoint_classifier.hdf5\n",
      "50/50 [==============================] - 0s 876us/step - loss: 2.1126 - accuracy: 0.2399 - val_loss: 1.9780 - val_accuracy: 0.3474\n",
      "Epoch 4/1000\n",
      " 1/50 [..............................] - ETA: 0s - loss: 2.0448 - accuracy: 0.3047\n",
      "Epoch 4: saving model to model/keypoint_classifier/keypoint_classifier.hdf5\n",
      "50/50 [==============================] - 0s 878us/step - loss: 2.0075 - accuracy: 0.2945 - val_loss: 1.8398 - val_accuracy: 0.3720\n",
      "Epoch 5/1000\n",
      " 1/50 [..............................] - ETA: 0s - loss: 1.9687 - accuracy: 0.2969\n",
      "Epoch 5: saving model to model/keypoint_classifier/keypoint_classifier.hdf5\n",
      "50/50 [==============================] - 0s 872us/step - loss: 1.8846 - accuracy: 0.3231 - val_loss: 1.7040 - val_accuracy: 0.3956\n",
      "Epoch 6/1000\n",
      " 1/50 [..............................] - ETA: 0s - loss: 1.8917 - accuracy: 0.2891\n",
      "Epoch 6: saving model to model/keypoint_classifier/keypoint_classifier.hdf5\n",
      "50/50 [==============================] - 0s 849us/step - loss: 1.7757 - accuracy: 0.3479 - val_loss: 1.5764 - val_accuracy: 0.4188\n",
      "Epoch 7/1000\n",
      " 1/50 [..............................] - ETA: 0s - loss: 1.6526 - accuracy: 0.3984\n",
      "Epoch 7: saving model to model/keypoint_classifier/keypoint_classifier.hdf5\n",
      "50/50 [==============================] - 0s 859us/step - loss: 1.6800 - accuracy: 0.3745 - val_loss: 1.4733 - val_accuracy: 0.4269\n",
      "Epoch 8/1000\n",
      " 1/50 [..............................] - ETA: 0s - loss: 1.5624 - accuracy: 0.4062\n",
      "Epoch 8: saving model to model/keypoint_classifier/keypoint_classifier.hdf5\n",
      "50/50 [==============================] - 0s 864us/step - loss: 1.6044 - accuracy: 0.3909 - val_loss: 1.3779 - val_accuracy: 0.4690\n",
      "Epoch 9/1000\n",
      " 1/50 [..............................] - ETA: 0s - loss: 1.4759 - accuracy: 0.4297\n",
      "Epoch 9: saving model to model/keypoint_classifier/keypoint_classifier.hdf5\n",
      "50/50 [==============================] - 0s 862us/step - loss: 1.5325 - accuracy: 0.4045 - val_loss: 1.2913 - val_accuracy: 0.5230\n",
      "Epoch 10/1000\n",
      " 1/50 [..............................] - ETA: 0s - loss: 1.4514 - accuracy: 0.4219\n",
      "Epoch 10: saving model to model/keypoint_classifier/keypoint_classifier.hdf5\n",
      "50/50 [==============================] - 0s 858us/step - loss: 1.4819 - accuracy: 0.4283 - val_loss: 1.2281 - val_accuracy: 0.5618\n",
      "Epoch 11/1000\n",
      " 1/50 [..............................] - ETA: 0s - loss: 1.5408 - accuracy: 0.4609\n",
      "Epoch 11: saving model to model/keypoint_classifier/keypoint_classifier.hdf5\n",
      "50/50 [==============================] - 0s 848us/step - loss: 1.4411 - accuracy: 0.4320 - val_loss: 1.1655 - val_accuracy: 0.5622\n",
      "Epoch 12/1000\n",
      " 1/50 [..............................] - ETA: 0s - loss: 1.3322 - accuracy: 0.4609\n",
      "Epoch 12: saving model to model/keypoint_classifier/keypoint_classifier.hdf5\n",
      "50/50 [==============================] - 0s 864us/step - loss: 1.3917 - accuracy: 0.4478 - val_loss: 1.1215 - val_accuracy: 0.6110\n",
      "Epoch 13/1000\n",
      " 1/50 [..............................] - ETA: 0s - loss: 1.4250 - accuracy: 0.4219\n",
      "Epoch 13: saving model to model/keypoint_classifier/keypoint_classifier.hdf5\n",
      "50/50 [==============================] - 0s 872us/step - loss: 1.3599 - accuracy: 0.4629 - val_loss: 1.0601 - val_accuracy: 0.6574\n",
      "Epoch 14/1000\n",
      " 1/50 [..............................] - ETA: 0s - loss: 1.3300 - accuracy: 0.4531\n",
      "Epoch 14: saving model to model/keypoint_classifier/keypoint_classifier.hdf5\n",
      "50/50 [==============================] - 0s 847us/step - loss: 1.3260 - accuracy: 0.4828 - val_loss: 1.0086 - val_accuracy: 0.6697\n",
      "Epoch 15/1000\n",
      " 1/50 [..............................] - ETA: 0s - loss: 1.3032 - accuracy: 0.4688\n",
      "Epoch 15: saving model to model/keypoint_classifier/keypoint_classifier.hdf5\n",
      "50/50 [==============================] - 0s 881us/step - loss: 1.2902 - accuracy: 0.4979 - val_loss: 0.9743 - val_accuracy: 0.6976\n",
      "Epoch 16/1000\n",
      " 1/50 [..............................] - ETA: 0s - loss: 1.3329 - accuracy: 0.4297\n",
      "Epoch 16: saving model to model/keypoint_classifier/keypoint_classifier.hdf5\n",
      "50/50 [==============================] - 0s 872us/step - loss: 1.2811 - accuracy: 0.4953 - val_loss: 0.9541 - val_accuracy: 0.6981\n",
      "Epoch 17/1000\n",
      " 1/50 [..............................] - ETA: 0s - loss: 1.2742 - accuracy: 0.5469\n",
      "Epoch 17: saving model to model/keypoint_classifier/keypoint_classifier.hdf5\n",
      "50/50 [==============================] - 0s 855us/step - loss: 1.2708 - accuracy: 0.5016 - val_loss: 0.9100 - val_accuracy: 0.7222\n",
      "Epoch 18/1000\n",
      " 1/50 [..............................] - ETA: 0s - loss: 1.3143 - accuracy: 0.4766\n",
      "Epoch 18: saving model to model/keypoint_classifier/keypoint_classifier.hdf5\n",
      "50/50 [==============================] - 0s 898us/step - loss: 1.2456 - accuracy: 0.5126 - val_loss: 0.8944 - val_accuracy: 0.7288\n",
      "Epoch 19/1000\n",
      " 1/50 [..............................] - ETA: 0s - loss: 1.2361 - accuracy: 0.5156\n",
      "Epoch 19: saving model to model/keypoint_classifier/keypoint_classifier.hdf5\n",
      "50/50 [==============================] - 0s 872us/step - loss: 1.2217 - accuracy: 0.5264 - val_loss: 0.8740 - val_accuracy: 0.7383\n",
      "Epoch 20/1000\n",
      " 1/50 [..............................] - ETA: 0s - loss: 1.2511 - accuracy: 0.4844\n",
      "Epoch 20: saving model to model/keypoint_classifier/keypoint_classifier.hdf5\n",
      "50/50 [==============================] - 0s 851us/step - loss: 1.2216 - accuracy: 0.5248 - val_loss: 0.8654 - val_accuracy: 0.7667\n",
      "Epoch 21/1000\n",
      " 1/50 [..............................] - ETA: 0s - loss: 1.3765 - accuracy: 0.4219\n",
      "Epoch 21: saving model to model/keypoint_classifier/keypoint_classifier.hdf5\n",
      "50/50 [==============================] - 0s 874us/step - loss: 1.1951 - accuracy: 0.5289 - val_loss: 0.8325 - val_accuracy: 0.7586\n",
      "Epoch 22/1000\n",
      " 1/50 [..............................] - ETA: 0s - loss: 1.1822 - accuracy: 0.5078\n",
      "Epoch 22: saving model to model/keypoint_classifier/keypoint_classifier.hdf5\n",
      "50/50 [==============================] - 0s 854us/step - loss: 1.1979 - accuracy: 0.5342 - val_loss: 0.8176 - val_accuracy: 0.7771\n",
      "Epoch 23/1000\n",
      " 1/50 [..............................] - ETA: 0s - loss: 1.1220 - accuracy: 0.6250\n",
      "Epoch 23: saving model to model/keypoint_classifier/keypoint_classifier.hdf5\n",
      "50/50 [==============================] - 0s 893us/step - loss: 1.1550 - accuracy: 0.5560 - val_loss: 0.7946 - val_accuracy: 0.7894\n",
      "Epoch 24/1000\n",
      " 1/50 [..............................] - ETA: 0s - loss: 1.2153 - accuracy: 0.5469\n",
      "Epoch 24: saving model to model/keypoint_classifier/keypoint_classifier.hdf5\n",
      "50/50 [==============================] - 0s 884us/step - loss: 1.1696 - accuracy: 0.5439 - val_loss: 0.7856 - val_accuracy: 0.8008\n",
      "Epoch 25/1000\n",
      " 1/50 [..............................] - ETA: 0s - loss: 1.2142 - accuracy: 0.5469\n",
      "Epoch 25: saving model to model/keypoint_classifier/keypoint_classifier.hdf5\n",
      "50/50 [==============================] - 0s 844us/step - loss: 1.1526 - accuracy: 0.5451 - val_loss: 0.7681 - val_accuracy: 0.8159\n",
      "Epoch 26/1000\n",
      " 1/50 [..............................] - ETA: 0s - loss: 1.2160 - accuracy: 0.5625\n",
      "Epoch 26: saving model to model/keypoint_classifier/keypoint_classifier.hdf5\n",
      "50/50 [==============================] - 0s 874us/step - loss: 1.1426 - accuracy: 0.5567 - val_loss: 0.7578 - val_accuracy: 0.8074\n",
      "Epoch 27/1000\n",
      " 1/50 [..............................] - ETA: 0s - loss: 1.2655 - accuracy: 0.5312\n",
      "Epoch 27: saving model to model/keypoint_classifier/keypoint_classifier.hdf5\n",
      "50/50 [==============================] - 0s 871us/step - loss: 1.1403 - accuracy: 0.5511 - val_loss: 0.7417 - val_accuracy: 0.8173\n",
      "Epoch 28/1000\n"
     ]
    },
    {
     "name": "stdout",
     "output_type": "stream",
     "text": [
      " 1/50 [..............................] - ETA: 0s - loss: 1.1324 - accuracy: 0.5625\n",
      "Epoch 28: saving model to model/keypoint_classifier/keypoint_classifier.hdf5\n",
      "50/50 [==============================] - 0s 875us/step - loss: 1.1320 - accuracy: 0.5590 - val_loss: 0.7464 - val_accuracy: 0.8211\n",
      "Epoch 29/1000\n",
      " 1/50 [..............................] - ETA: 0s - loss: 1.1763 - accuracy: 0.5703\n",
      "Epoch 29: saving model to model/keypoint_classifier/keypoint_classifier.hdf5\n",
      "50/50 [==============================] - 0s 883us/step - loss: 1.1233 - accuracy: 0.5639 - val_loss: 0.7323 - val_accuracy: 0.7989\n",
      "Epoch 30/1000\n",
      " 1/50 [..............................] - ETA: 0s - loss: 1.0451 - accuracy: 0.6094\n",
      "Epoch 30: saving model to model/keypoint_classifier/keypoint_classifier.hdf5\n",
      "50/50 [==============================] - 0s 874us/step - loss: 1.0954 - accuracy: 0.5668 - val_loss: 0.7127 - val_accuracy: 0.8282\n",
      "Epoch 31/1000\n",
      " 1/50 [..............................] - ETA: 0s - loss: 1.1570 - accuracy: 0.5234\n",
      "Epoch 31: saving model to model/keypoint_classifier/keypoint_classifier.hdf5\n",
      "50/50 [==============================] - 0s 868us/step - loss: 1.1042 - accuracy: 0.5669 - val_loss: 0.7179 - val_accuracy: 0.8126\n",
      "Epoch 32/1000\n",
      " 1/50 [..............................] - ETA: 0s - loss: 1.0734 - accuracy: 0.5312\n",
      "Epoch 32: saving model to model/keypoint_classifier/keypoint_classifier.hdf5\n",
      "50/50 [==============================] - 0s 838us/step - loss: 1.0937 - accuracy: 0.5720 - val_loss: 0.7048 - val_accuracy: 0.8429\n",
      "Epoch 33/1000\n",
      " 1/50 [..............................] - ETA: 0s - loss: 1.0177 - accuracy: 0.5781\n",
      "Epoch 33: saving model to model/keypoint_classifier/keypoint_classifier.hdf5\n",
      "50/50 [==============================] - 0s 842us/step - loss: 1.0772 - accuracy: 0.5818 - val_loss: 0.6967 - val_accuracy: 0.8471\n",
      "Epoch 34/1000\n",
      " 1/50 [..............................] - ETA: 0s - loss: 0.8938 - accuracy: 0.6641\n",
      "Epoch 34: saving model to model/keypoint_classifier/keypoint_classifier.hdf5\n",
      "50/50 [==============================] - 0s 843us/step - loss: 1.0712 - accuracy: 0.5819 - val_loss: 0.6812 - val_accuracy: 0.8471\n",
      "Epoch 35/1000\n",
      " 1/50 [..............................] - ETA: 0s - loss: 1.0744 - accuracy: 0.6172\n",
      "Epoch 35: saving model to model/keypoint_classifier/keypoint_classifier.hdf5\n",
      "50/50 [==============================] - 0s 841us/step - loss: 1.0785 - accuracy: 0.5740 - val_loss: 0.6851 - val_accuracy: 0.8646\n",
      "Epoch 36/1000\n",
      " 1/50 [..............................] - ETA: 0s - loss: 1.1039 - accuracy: 0.5469\n",
      "Epoch 36: saving model to model/keypoint_classifier/keypoint_classifier.hdf5\n",
      "50/50 [==============================] - 0s 839us/step - loss: 1.0831 - accuracy: 0.5764 - val_loss: 0.6901 - val_accuracy: 0.8533\n",
      "Epoch 37/1000\n",
      " 1/50 [..............................] - ETA: 0s - loss: 0.9744 - accuracy: 0.5859\n",
      "Epoch 37: saving model to model/keypoint_classifier/keypoint_classifier.hdf5\n",
      "50/50 [==============================] - 0s 840us/step - loss: 1.0471 - accuracy: 0.5914 - val_loss: 0.6745 - val_accuracy: 0.8571\n",
      "Epoch 38/1000\n",
      " 1/50 [..............................] - ETA: 0s - loss: 1.1412 - accuracy: 0.6016\n",
      "Epoch 38: saving model to model/keypoint_classifier/keypoint_classifier.hdf5\n",
      "50/50 [==============================] - 0s 834us/step - loss: 1.0703 - accuracy: 0.5865 - val_loss: 0.6758 - val_accuracy: 0.8812\n",
      "Epoch 39/1000\n",
      " 1/50 [..............................] - ETA: 0s - loss: 1.0665 - accuracy: 0.5781\n",
      "Epoch 39: saving model to model/keypoint_classifier/keypoint_classifier.hdf5\n",
      "50/50 [==============================] - 0s 846us/step - loss: 1.0284 - accuracy: 0.6026 - val_loss: 0.6585 - val_accuracy: 0.8722\n",
      "Epoch 40/1000\n",
      " 1/50 [..............................] - ETA: 0s - loss: 1.0955 - accuracy: 0.5469\n",
      "Epoch 40: saving model to model/keypoint_classifier/keypoint_classifier.hdf5\n",
      "50/50 [==============================] - 0s 865us/step - loss: 1.0432 - accuracy: 0.5904 - val_loss: 0.6564 - val_accuracy: 0.8779\n",
      "Epoch 41/1000\n",
      " 1/50 [..............................] - ETA: 0s - loss: 1.0233 - accuracy: 0.6094\n",
      "Epoch 41: saving model to model/keypoint_classifier/keypoint_classifier.hdf5\n",
      "50/50 [==============================] - 0s 845us/step - loss: 1.0327 - accuracy: 0.5934 - val_loss: 0.6459 - val_accuracy: 0.8893\n",
      "Epoch 42/1000\n",
      " 1/50 [..............................] - ETA: 0s - loss: 1.2687 - accuracy: 0.4922\n",
      "Epoch 42: saving model to model/keypoint_classifier/keypoint_classifier.hdf5\n",
      "50/50 [==============================] - 0s 866us/step - loss: 1.0164 - accuracy: 0.6031 - val_loss: 0.6390 - val_accuracy: 0.8921\n",
      "Epoch 43/1000\n",
      " 1/50 [..............................] - ETA: 0s - loss: 0.9640 - accuracy: 0.6328\n",
      "Epoch 43: saving model to model/keypoint_classifier/keypoint_classifier.hdf5\n",
      "50/50 [==============================] - 0s 838us/step - loss: 1.0243 - accuracy: 0.6020 - val_loss: 0.6416 - val_accuracy: 0.8902\n",
      "Epoch 44/1000\n",
      " 1/50 [..............................] - ETA: 0s - loss: 0.9330 - accuracy: 0.6250\n",
      "Epoch 44: saving model to model/keypoint_classifier/keypoint_classifier.hdf5\n",
      "50/50 [==============================] - 0s 857us/step - loss: 1.0179 - accuracy: 0.6035 - val_loss: 0.6369 - val_accuracy: 0.8987\n",
      "Epoch 45/1000\n",
      " 1/50 [..............................] - ETA: 0s - loss: 1.0265 - accuracy: 0.5625\n",
      "Epoch 45: saving model to model/keypoint_classifier/keypoint_classifier.hdf5\n",
      "50/50 [==============================] - 0s 1ms/step - loss: 1.0055 - accuracy: 0.6057 - val_loss: 0.6256 - val_accuracy: 0.9063\n",
      "Epoch 46/1000\n",
      " 1/50 [..............................] - ETA: 0s - loss: 1.0559 - accuracy: 0.6406\n",
      "Epoch 46: saving model to model/keypoint_classifier/keypoint_classifier.hdf5\n",
      "50/50 [==============================] - 0s 846us/step - loss: 1.0005 - accuracy: 0.6073 - val_loss: 0.6195 - val_accuracy: 0.9096\n",
      "Epoch 47/1000\n",
      " 1/50 [..............................] - ETA: 0s - loss: 1.0574 - accuracy: 0.6562\n",
      "Epoch 47: saving model to model/keypoint_classifier/keypoint_classifier.hdf5\n",
      "50/50 [==============================] - 0s 856us/step - loss: 0.9886 - accuracy: 0.6174 - val_loss: 0.6221 - val_accuracy: 0.8959\n",
      "Epoch 48/1000\n",
      " 1/50 [..............................] - ETA: 0s - loss: 0.8873 - accuracy: 0.6719\n",
      "Epoch 48: saving model to model/keypoint_classifier/keypoint_classifier.hdf5\n",
      "50/50 [==============================] - 0s 857us/step - loss: 0.9715 - accuracy: 0.6162 - val_loss: 0.6060 - val_accuracy: 0.9106\n",
      "Epoch 49/1000\n",
      " 1/50 [..............................] - ETA: 0s - loss: 0.8715 - accuracy: 0.5859\n",
      "Epoch 49: saving model to model/keypoint_classifier/keypoint_classifier.hdf5\n",
      "50/50 [==============================] - 0s 859us/step - loss: 0.9777 - accuracy: 0.6125 - val_loss: 0.6046 - val_accuracy: 0.9053\n",
      "Epoch 50/1000\n",
      " 1/50 [..............................] - ETA: 0s - loss: 1.0132 - accuracy: 0.5703\n",
      "Epoch 50: saving model to model/keypoint_classifier/keypoint_classifier.hdf5\n",
      "50/50 [==============================] - 0s 855us/step - loss: 0.9841 - accuracy: 0.6067 - val_loss: 0.6188 - val_accuracy: 0.9143\n",
      "Epoch 51/1000\n",
      " 1/50 [..............................] - ETA: 0s - loss: 1.0574 - accuracy: 0.6094\n",
      "Epoch 51: saving model to model/keypoint_classifier/keypoint_classifier.hdf5\n",
      "50/50 [==============================] - 0s 850us/step - loss: 0.9635 - accuracy: 0.6206 - val_loss: 0.5997 - val_accuracy: 0.9210\n",
      "Epoch 52/1000\n",
      " 1/50 [..............................] - ETA: 0s - loss: 0.8611 - accuracy: 0.6797\n",
      "Epoch 52: saving model to model/keypoint_classifier/keypoint_classifier.hdf5\n",
      "50/50 [==============================] - 0s 869us/step - loss: 0.9653 - accuracy: 0.6247 - val_loss: 0.5866 - val_accuracy: 0.9181\n",
      "Epoch 53/1000\n",
      " 1/50 [..............................] - ETA: 0s - loss: 0.9770 - accuracy: 0.6094\n",
      "Epoch 53: saving model to model/keypoint_classifier/keypoint_classifier.hdf5\n",
      "50/50 [==============================] - 0s 852us/step - loss: 0.9448 - accuracy: 0.6312 - val_loss: 0.5837 - val_accuracy: 0.9167\n",
      "Epoch 54/1000\n",
      " 1/50 [..............................] - ETA: 0s - loss: 1.0570 - accuracy: 0.5156\n",
      "Epoch 54: saving model to model/keypoint_classifier/keypoint_classifier.hdf5\n",
      "50/50 [==============================] - 0s 875us/step - loss: 0.9537 - accuracy: 0.6201 - val_loss: 0.5932 - val_accuracy: 0.9172\n"
     ]
    },
    {
     "name": "stdout",
     "output_type": "stream",
     "text": [
      "Epoch 55/1000\n",
      " 1/50 [..............................] - ETA: 0s - loss: 0.9475 - accuracy: 0.5703\n",
      "Epoch 55: saving model to model/keypoint_classifier/keypoint_classifier.hdf5\n",
      "50/50 [==============================] - 0s 957us/step - loss: 0.9367 - accuracy: 0.6329 - val_loss: 0.5796 - val_accuracy: 0.9143\n",
      "Epoch 56/1000\n",
      " 1/50 [..............................] - ETA: 0s - loss: 0.8755 - accuracy: 0.7031\n",
      "Epoch 56: saving model to model/keypoint_classifier/keypoint_classifier.hdf5\n",
      "50/50 [==============================] - 0s 856us/step - loss: 0.9397 - accuracy: 0.6346 - val_loss: 0.5769 - val_accuracy: 0.9295\n",
      "Epoch 57/1000\n",
      " 1/50 [..............................] - ETA: 0s - loss: 0.8811 - accuracy: 0.6562\n",
      "Epoch 57: saving model to model/keypoint_classifier/keypoint_classifier.hdf5\n",
      "50/50 [==============================] - 0s 828us/step - loss: 0.9232 - accuracy: 0.6400 - val_loss: 0.5624 - val_accuracy: 0.9300\n",
      "Epoch 58/1000\n",
      " 1/50 [..............................] - ETA: 0s - loss: 0.7870 - accuracy: 0.6953\n",
      "Epoch 58: saving model to model/keypoint_classifier/keypoint_classifier.hdf5\n",
      "50/50 [==============================] - 0s 848us/step - loss: 0.9481 - accuracy: 0.6313 - val_loss: 0.5764 - val_accuracy: 0.9347\n",
      "Epoch 59/1000\n",
      " 1/50 [..............................] - ETA: 0s - loss: 0.8122 - accuracy: 0.7266\n",
      "Epoch 59: saving model to model/keypoint_classifier/keypoint_classifier.hdf5\n",
      "50/50 [==============================] - 0s 836us/step - loss: 0.9274 - accuracy: 0.6402 - val_loss: 0.5702 - val_accuracy: 0.9148\n",
      "Epoch 60/1000\n",
      " 1/50 [..............................] - ETA: 0s - loss: 0.9508 - accuracy: 0.6406\n",
      "Epoch 60: saving model to model/keypoint_classifier/keypoint_classifier.hdf5\n",
      "50/50 [==============================] - 0s 841us/step - loss: 0.9304 - accuracy: 0.6351 - val_loss: 0.5648 - val_accuracy: 0.9304\n",
      "Epoch 61/1000\n",
      " 1/50 [..............................] - ETA: 0s - loss: 0.9914 - accuracy: 0.6562\n",
      "Epoch 61: saving model to model/keypoint_classifier/keypoint_classifier.hdf5\n",
      "50/50 [==============================] - 0s 833us/step - loss: 0.9134 - accuracy: 0.6495 - val_loss: 0.5643 - val_accuracy: 0.9276\n",
      "Epoch 62/1000\n",
      " 1/50 [..............................] - ETA: 0s - loss: 0.9471 - accuracy: 0.6328\n",
      "Epoch 62: saving model to model/keypoint_classifier/keypoint_classifier.hdf5\n",
      "50/50 [==============================] - 0s 869us/step - loss: 0.9238 - accuracy: 0.6378 - val_loss: 0.5719 - val_accuracy: 0.9508\n",
      "Epoch 63/1000\n",
      " 1/50 [..............................] - ETA: 0s - loss: 1.0527 - accuracy: 0.5938\n",
      "Epoch 63: saving model to model/keypoint_classifier/keypoint_classifier.hdf5\n",
      "50/50 [==============================] - 0s 854us/step - loss: 0.9093 - accuracy: 0.6395 - val_loss: 0.5505 - val_accuracy: 0.9314\n",
      "Epoch 64/1000\n",
      " 1/50 [..............................] - ETA: 0s - loss: 0.8613 - accuracy: 0.6719\n",
      "Epoch 64: saving model to model/keypoint_classifier/keypoint_classifier.hdf5\n",
      "50/50 [==============================] - 0s 843us/step - loss: 0.8991 - accuracy: 0.6514 - val_loss: 0.5465 - val_accuracy: 0.9266\n",
      "Epoch 65/1000\n",
      " 1/50 [..............................] - ETA: 0s - loss: 1.0085 - accuracy: 0.5781\n",
      "Epoch 65: saving model to model/keypoint_classifier/keypoint_classifier.hdf5\n",
      "50/50 [==============================] - 0s 846us/step - loss: 0.8997 - accuracy: 0.6520 - val_loss: 0.5552 - val_accuracy: 0.9214\n",
      "Epoch 66/1000\n",
      " 1/50 [..............................] - ETA: 0s - loss: 0.9346 - accuracy: 0.6250\n",
      "Epoch 66: saving model to model/keypoint_classifier/keypoint_classifier.hdf5\n",
      "50/50 [==============================] - 0s 859us/step - loss: 0.9053 - accuracy: 0.6469 - val_loss: 0.5466 - val_accuracy: 0.9328\n",
      "Epoch 67/1000\n",
      " 1/50 [..............................] - ETA: 0s - loss: 0.9028 - accuracy: 0.6719\n",
      "Epoch 67: saving model to model/keypoint_classifier/keypoint_classifier.hdf5\n",
      "50/50 [==============================] - 0s 862us/step - loss: 0.9036 - accuracy: 0.6518 - val_loss: 0.5622 - val_accuracy: 0.9446\n",
      "Epoch 68/1000\n",
      " 1/50 [..............................] - ETA: 0s - loss: 0.8749 - accuracy: 0.6953\n",
      "Epoch 68: saving model to model/keypoint_classifier/keypoint_classifier.hdf5\n",
      "50/50 [==============================] - 0s 854us/step - loss: 0.8895 - accuracy: 0.6567 - val_loss: 0.5300 - val_accuracy: 0.9442\n",
      "Epoch 69/1000\n",
      " 1/50 [..............................] - ETA: 0s - loss: 0.8243 - accuracy: 0.6562\n",
      "Epoch 69: saving model to model/keypoint_classifier/keypoint_classifier.hdf5\n",
      "50/50 [==============================] - 0s 852us/step - loss: 0.8945 - accuracy: 0.6544 - val_loss: 0.5257 - val_accuracy: 0.9413\n",
      "Epoch 70/1000\n",
      " 1/50 [..............................] - ETA: 0s - loss: 0.9770 - accuracy: 0.6250\n",
      "Epoch 70: saving model to model/keypoint_classifier/keypoint_classifier.hdf5\n",
      "50/50 [==============================] - 0s 867us/step - loss: 0.8786 - accuracy: 0.6499 - val_loss: 0.5451 - val_accuracy: 0.9484\n",
      "Epoch 71/1000\n",
      " 1/50 [..............................] - ETA: 0s - loss: 0.8548 - accuracy: 0.6484\n",
      "Epoch 71: saving model to model/keypoint_classifier/keypoint_classifier.hdf5\n",
      "50/50 [==============================] - 0s 854us/step - loss: 0.8867 - accuracy: 0.6572 - val_loss: 0.5280 - val_accuracy: 0.9484\n",
      "Epoch 72/1000\n",
      " 1/50 [..............................] - ETA: 0s - loss: 0.7746 - accuracy: 0.6953\n",
      "Epoch 72: saving model to model/keypoint_classifier/keypoint_classifier.hdf5\n",
      "50/50 [==============================] - 0s 818us/step - loss: 0.8750 - accuracy: 0.6521 - val_loss: 0.5373 - val_accuracy: 0.9513\n",
      "Epoch 73/1000\n",
      " 1/50 [..............................] - ETA: 0s - loss: 0.9813 - accuracy: 0.6719\n",
      "Epoch 73: saving model to model/keypoint_classifier/keypoint_classifier.hdf5\n",
      "50/50 [==============================] - 0s 849us/step - loss: 0.8794 - accuracy: 0.6586 - val_loss: 0.5439 - val_accuracy: 0.9413\n",
      "Epoch 74/1000\n",
      " 1/50 [..............................] - ETA: 0s - loss: 0.8729 - accuracy: 0.6406\n",
      "Epoch 74: saving model to model/keypoint_classifier/keypoint_classifier.hdf5\n",
      "50/50 [==============================] - 0s 845us/step - loss: 0.8583 - accuracy: 0.6698 - val_loss: 0.5223 - val_accuracy: 0.9300\n",
      "Epoch 75/1000\n",
      " 1/50 [..............................] - ETA: 0s - loss: 1.0035 - accuracy: 0.6250\n",
      "Epoch 75: saving model to model/keypoint_classifier/keypoint_classifier.hdf5\n",
      "50/50 [==============================] - 0s 874us/step - loss: 0.8708 - accuracy: 0.6635 - val_loss: 0.5433 - val_accuracy: 0.9498\n",
      "Epoch 76/1000\n",
      " 1/50 [..............................] - ETA: 0s - loss: 0.8449 - accuracy: 0.6641\n",
      "Epoch 76: saving model to model/keypoint_classifier/keypoint_classifier.hdf5\n",
      "50/50 [==============================] - 0s 847us/step - loss: 0.8801 - accuracy: 0.6624 - val_loss: 0.5217 - val_accuracy: 0.9560\n",
      "Epoch 77/1000\n",
      " 1/50 [..............................] - ETA: 0s - loss: 0.7606 - accuracy: 0.6875\n",
      "Epoch 77: saving model to model/keypoint_classifier/keypoint_classifier.hdf5\n",
      "50/50 [==============================] - 0s 886us/step - loss: 0.8600 - accuracy: 0.6701 - val_loss: 0.5375 - val_accuracy: 0.9380\n",
      "Epoch 78/1000\n",
      " 1/50 [..............................] - ETA: 0s - loss: 0.8461 - accuracy: 0.7266\n",
      "Epoch 78: saving model to model/keypoint_classifier/keypoint_classifier.hdf5\n",
      "50/50 [==============================] - 0s 883us/step - loss: 0.8600 - accuracy: 0.6671 - val_loss: 0.5269 - val_accuracy: 0.9531\n",
      "Epoch 79/1000\n",
      " 1/50 [..............................] - ETA: 0s - loss: 0.8834 - accuracy: 0.6406\n",
      "Epoch 79: saving model to model/keypoint_classifier/keypoint_classifier.hdf5\n",
      "50/50 [==============================] - 0s 860us/step - loss: 0.8624 - accuracy: 0.6558 - val_loss: 0.5133 - val_accuracy: 0.9423\n",
      "Epoch 80/1000\n",
      " 1/50 [..............................] - ETA: 0s - loss: 0.7544 - accuracy: 0.7109\n",
      "Epoch 80: saving model to model/keypoint_classifier/keypoint_classifier.hdf5\n",
      "50/50 [==============================] - 0s 878us/step - loss: 0.8509 - accuracy: 0.6716 - val_loss: 0.5264 - val_accuracy: 0.9494\n",
      "Epoch 81/1000\n",
      " 1/50 [..............................] - ETA: 0s - loss: 0.8250 - accuracy: 0.6875\n",
      "Epoch 81: saving model to model/keypoint_classifier/keypoint_classifier.hdf5\n",
      "50/50 [==============================] - 0s 874us/step - loss: 0.8567 - accuracy: 0.6670 - val_loss: 0.5194 - val_accuracy: 0.9517\n"
     ]
    },
    {
     "name": "stdout",
     "output_type": "stream",
     "text": [
      "Epoch 82/1000\n",
      " 1/50 [..............................] - ETA: 0s - loss: 0.9113 - accuracy: 0.6250\n",
      "Epoch 82: saving model to model/keypoint_classifier/keypoint_classifier.hdf5\n",
      "50/50 [==============================] - 0s 844us/step - loss: 0.8454 - accuracy: 0.6668 - val_loss: 0.5240 - val_accuracy: 0.9527\n",
      "Epoch 83/1000\n",
      " 1/50 [..............................] - ETA: 0s - loss: 0.8890 - accuracy: 0.6562\n",
      "Epoch 83: saving model to model/keypoint_classifier/keypoint_classifier.hdf5\n",
      "50/50 [==============================] - 0s 852us/step - loss: 0.8584 - accuracy: 0.6765 - val_loss: 0.5312 - val_accuracy: 0.9550\n",
      "Epoch 84/1000\n",
      " 1/50 [..............................] - ETA: 0s - loss: 0.8054 - accuracy: 0.7422\n",
      "Epoch 84: saving model to model/keypoint_classifier/keypoint_classifier.hdf5\n",
      "50/50 [==============================] - 0s 833us/step - loss: 0.8553 - accuracy: 0.6648 - val_loss: 0.5300 - val_accuracy: 0.9498\n",
      "Epoch 85/1000\n",
      " 1/50 [..............................] - ETA: 0s - loss: 0.8976 - accuracy: 0.6328\n",
      "Epoch 85: saving model to model/keypoint_classifier/keypoint_classifier.hdf5\n",
      "50/50 [==============================] - 0s 838us/step - loss: 0.8453 - accuracy: 0.6632 - val_loss: 0.5479 - val_accuracy: 0.9527\n",
      "Epoch 86/1000\n",
      " 1/50 [..............................] - ETA: 0s - loss: 0.8122 - accuracy: 0.6797\n",
      "Epoch 86: saving model to model/keypoint_classifier/keypoint_classifier.hdf5\n",
      "50/50 [==============================] - 0s 840us/step - loss: 0.8434 - accuracy: 0.6735 - val_loss: 0.5084 - val_accuracy: 0.9541\n",
      "Epoch 87/1000\n",
      " 1/50 [..............................] - ETA: 0s - loss: 0.9751 - accuracy: 0.6250\n",
      "Epoch 87: saving model to model/keypoint_classifier/keypoint_classifier.hdf5\n",
      "50/50 [==============================] - 0s 838us/step - loss: 0.8402 - accuracy: 0.6738 - val_loss: 0.5078 - val_accuracy: 0.9456\n",
      "Epoch 88/1000\n",
      " 1/50 [..............................] - ETA: 0s - loss: 0.8420 - accuracy: 0.6719\n",
      "Epoch 88: saving model to model/keypoint_classifier/keypoint_classifier.hdf5\n",
      "50/50 [==============================] - 0s 861us/step - loss: 0.8233 - accuracy: 0.6736 - val_loss: 0.5194 - val_accuracy: 0.9579\n",
      "Epoch 89/1000\n",
      " 1/50 [..............................] - ETA: 0s - loss: 0.8718 - accuracy: 0.6172\n",
      "Epoch 89: saving model to model/keypoint_classifier/keypoint_classifier.hdf5\n",
      "50/50 [==============================] - 0s 845us/step - loss: 0.8409 - accuracy: 0.6662 - val_loss: 0.5316 - val_accuracy: 0.9607\n",
      "Epoch 90/1000\n",
      " 1/50 [..............................] - ETA: 0s - loss: 0.7270 - accuracy: 0.7656\n",
      "Epoch 90: saving model to model/keypoint_classifier/keypoint_classifier.hdf5\n",
      "50/50 [==============================] - 0s 854us/step - loss: 0.8276 - accuracy: 0.6842 - val_loss: 0.5121 - val_accuracy: 0.9451\n",
      "Epoch 91/1000\n",
      " 1/50 [..............................] - ETA: 0s - loss: 0.7658 - accuracy: 0.7188\n",
      "Epoch 91: saving model to model/keypoint_classifier/keypoint_classifier.hdf5\n",
      "50/50 [==============================] - 0s 836us/step - loss: 0.8331 - accuracy: 0.6733 - val_loss: 0.5225 - val_accuracy: 0.9569\n",
      "Epoch 92/1000\n",
      " 1/50 [..............................] - ETA: 0s - loss: 0.8994 - accuracy: 0.6328\n",
      "Epoch 92: saving model to model/keypoint_classifier/keypoint_classifier.hdf5\n",
      "50/50 [==============================] - 0s 849us/step - loss: 0.8229 - accuracy: 0.6716 - val_loss: 0.5483 - val_accuracy: 0.9531\n",
      "Epoch 93/1000\n",
      " 1/50 [..............................] - ETA: 0s - loss: 0.8355 - accuracy: 0.6953\n",
      "Epoch 93: saving model to model/keypoint_classifier/keypoint_classifier.hdf5\n",
      "50/50 [==============================] - 0s 848us/step - loss: 0.8234 - accuracy: 0.6858 - val_loss: 0.5137 - val_accuracy: 0.9560\n",
      "Epoch 94/1000\n",
      " 1/50 [..............................] - ETA: 0s - loss: 0.9207 - accuracy: 0.6641\n",
      "Epoch 94: saving model to model/keypoint_classifier/keypoint_classifier.hdf5\n",
      "50/50 [==============================] - 0s 864us/step - loss: 0.8138 - accuracy: 0.6845 - val_loss: 0.5044 - val_accuracy: 0.9527\n",
      "Epoch 95/1000\n",
      " 1/50 [..............................] - ETA: 0s - loss: 0.8726 - accuracy: 0.6484\n",
      "Epoch 95: saving model to model/keypoint_classifier/keypoint_classifier.hdf5\n",
      "50/50 [==============================] - 0s 849us/step - loss: 0.8365 - accuracy: 0.6761 - val_loss: 0.5251 - val_accuracy: 0.9536\n",
      "Epoch 96/1000\n",
      " 1/50 [..............................] - ETA: 0s - loss: 0.8545 - accuracy: 0.6406\n",
      "Epoch 96: saving model to model/keypoint_classifier/keypoint_classifier.hdf5\n",
      "50/50 [==============================] - 0s 886us/step - loss: 0.8248 - accuracy: 0.6840 - val_loss: 0.5056 - val_accuracy: 0.9555\n",
      "Epoch 97/1000\n",
      " 1/50 [..............................] - ETA: 0s - loss: 0.7644 - accuracy: 0.6875\n",
      "Epoch 97: saving model to model/keypoint_classifier/keypoint_classifier.hdf5\n",
      "50/50 [==============================] - 0s 847us/step - loss: 0.8303 - accuracy: 0.6813 - val_loss: 0.5112 - val_accuracy: 0.9456\n",
      "Epoch 98/1000\n",
      " 1/50 [..............................] - ETA: 0s - loss: 0.7595 - accuracy: 0.7031\n",
      "Epoch 98: saving model to model/keypoint_classifier/keypoint_classifier.hdf5\n",
      "50/50 [==============================] - 0s 869us/step - loss: 0.8090 - accuracy: 0.6911 - val_loss: 0.5063 - val_accuracy: 0.9565\n",
      "Epoch 99/1000\n",
      " 1/50 [..............................] - ETA: 0s - loss: 0.6808 - accuracy: 0.7500\n",
      "Epoch 99: saving model to model/keypoint_classifier/keypoint_classifier.hdf5\n",
      "50/50 [==============================] - 0s 858us/step - loss: 0.8054 - accuracy: 0.6910 - val_loss: 0.4997 - val_accuracy: 0.9584\n",
      "Epoch 100/1000\n",
      " 1/50 [..............................] - ETA: 0s - loss: 0.6245 - accuracy: 0.7422\n",
      "Epoch 100: saving model to model/keypoint_classifier/keypoint_classifier.hdf5\n",
      "50/50 [==============================] - 0s 882us/step - loss: 0.8080 - accuracy: 0.6899 - val_loss: 0.4935 - val_accuracy: 0.9617\n",
      "Epoch 101/1000\n",
      " 1/50 [..............................] - ETA: 0s - loss: 0.7606 - accuracy: 0.7891\n",
      "Epoch 101: saving model to model/keypoint_classifier/keypoint_classifier.hdf5\n",
      "50/50 [==============================] - 0s 883us/step - loss: 0.8077 - accuracy: 0.6889 - val_loss: 0.5175 - val_accuracy: 0.9579\n",
      "Epoch 102/1000\n",
      " 1/50 [..............................] - ETA: 0s - loss: 0.8611 - accuracy: 0.6094\n",
      "Epoch 102: saving model to model/keypoint_classifier/keypoint_classifier.hdf5\n",
      "50/50 [==============================] - 0s 850us/step - loss: 0.7917 - accuracy: 0.6943 - val_loss: 0.5086 - val_accuracy: 0.9588\n",
      "Epoch 103/1000\n",
      " 1/50 [..............................] - ETA: 0s - loss: 1.0114 - accuracy: 0.6016\n",
      "Epoch 103: saving model to model/keypoint_classifier/keypoint_classifier.hdf5\n",
      "50/50 [==============================] - 0s 878us/step - loss: 0.7991 - accuracy: 0.6955 - val_loss: 0.5013 - val_accuracy: 0.9678\n",
      "Epoch 104/1000\n",
      " 1/50 [..............................] - ETA: 0s - loss: 0.8465 - accuracy: 0.6250\n",
      "Epoch 104: saving model to model/keypoint_classifier/keypoint_classifier.hdf5\n",
      "50/50 [==============================] - 0s 860us/step - loss: 0.7879 - accuracy: 0.6982 - val_loss: 0.4997 - val_accuracy: 0.9612\n",
      "Epoch 105/1000\n",
      " 1/50 [..............................] - ETA: 0s - loss: 0.7403 - accuracy: 0.6953\n",
      "Epoch 105: saving model to model/keypoint_classifier/keypoint_classifier.hdf5\n",
      "50/50 [==============================] - 0s 861us/step - loss: 0.7835 - accuracy: 0.6987 - val_loss: 0.4723 - val_accuracy: 0.9621\n",
      "Epoch 106/1000\n",
      " 1/50 [..............................] - ETA: 0s - loss: 0.7386 - accuracy: 0.7344\n",
      "Epoch 106: saving model to model/keypoint_classifier/keypoint_classifier.hdf5\n",
      "50/50 [==============================] - 0s 868us/step - loss: 0.7930 - accuracy: 0.7045 - val_loss: 0.5072 - val_accuracy: 0.9621\n",
      "Epoch 107/1000\n",
      " 1/50 [..............................] - ETA: 0s - loss: 0.8386 - accuracy: 0.6797\n",
      "Epoch 107: saving model to model/keypoint_classifier/keypoint_classifier.hdf5\n",
      "50/50 [==============================] - 0s 861us/step - loss: 0.7944 - accuracy: 0.6946 - val_loss: 0.4850 - val_accuracy: 0.9650\n",
      "Epoch 108/1000\n",
      " 1/50 [..............................] - ETA: 0s - loss: 0.9082 - accuracy: 0.6172\n",
      "Epoch 108: saving model to model/keypoint_classifier/keypoint_classifier.hdf5\n",
      "50/50 [==============================] - 0s 872us/step - loss: 0.7843 - accuracy: 0.6979 - val_loss: 0.4965 - val_accuracy: 0.9692\n"
     ]
    },
    {
     "name": "stdout",
     "output_type": "stream",
     "text": [
      "Epoch 109/1000\n",
      " 1/50 [..............................] - ETA: 0s - loss: 0.8988 - accuracy: 0.6094\n",
      "Epoch 109: saving model to model/keypoint_classifier/keypoint_classifier.hdf5\n",
      "50/50 [==============================] - 0s 872us/step - loss: 0.7978 - accuracy: 0.6883 - val_loss: 0.4871 - val_accuracy: 0.9669\n",
      "Epoch 110/1000\n",
      " 1/50 [..............................] - ETA: 0s - loss: 0.8131 - accuracy: 0.6719\n",
      "Epoch 110: saving model to model/keypoint_classifier/keypoint_classifier.hdf5\n",
      "50/50 [==============================] - 0s 870us/step - loss: 0.7742 - accuracy: 0.7053 - val_loss: 0.4738 - val_accuracy: 0.9655\n",
      "Epoch 111/1000\n",
      " 1/50 [..............................] - ETA: 0s - loss: 0.7896 - accuracy: 0.6875\n",
      "Epoch 111: saving model to model/keypoint_classifier/keypoint_classifier.hdf5\n",
      "50/50 [==============================] - 0s 851us/step - loss: 0.7823 - accuracy: 0.6949 - val_loss: 0.5061 - val_accuracy: 0.9621\n",
      "Epoch 112/1000\n",
      " 1/50 [..............................] - ETA: 0s - loss: 0.6003 - accuracy: 0.7734\n",
      "Epoch 112: saving model to model/keypoint_classifier/keypoint_classifier.hdf5\n",
      "50/50 [==============================] - 0s 843us/step - loss: 0.7840 - accuracy: 0.7022 - val_loss: 0.4960 - val_accuracy: 0.9593\n",
      "Epoch 113/1000\n",
      " 1/50 [..............................] - ETA: 0s - loss: 0.9108 - accuracy: 0.6641\n",
      "Epoch 113: saving model to model/keypoint_classifier/keypoint_classifier.hdf5\n",
      "50/50 [==============================] - 0s 847us/step - loss: 0.7713 - accuracy: 0.7118 - val_loss: 0.4974 - val_accuracy: 0.9645\n",
      "Epoch 114/1000\n",
      " 1/50 [..............................] - ETA: 0s - loss: 0.8094 - accuracy: 0.6875\n",
      "Epoch 114: saving model to model/keypoint_classifier/keypoint_classifier.hdf5\n",
      "50/50 [==============================] - 0s 1ms/step - loss: 0.7610 - accuracy: 0.7102 - val_loss: 0.4813 - val_accuracy: 0.9683\n",
      "Epoch 115/1000\n",
      " 1/50 [..............................] - ETA: 0s - loss: 0.7710 - accuracy: 0.7422\n",
      "Epoch 115: saving model to model/keypoint_classifier/keypoint_classifier.hdf5\n",
      "50/50 [==============================] - 0s 844us/step - loss: 0.7847 - accuracy: 0.7025 - val_loss: 0.5290 - val_accuracy: 0.9565\n",
      "Epoch 116/1000\n",
      " 1/50 [..............................] - ETA: 0s - loss: 0.7204 - accuracy: 0.7266\n",
      "Epoch 116: saving model to model/keypoint_classifier/keypoint_classifier.hdf5\n",
      "50/50 [==============================] - 0s 842us/step - loss: 0.7594 - accuracy: 0.7153 - val_loss: 0.4656 - val_accuracy: 0.9636\n",
      "Epoch 117/1000\n",
      " 1/50 [..............................] - ETA: 0s - loss: 0.7456 - accuracy: 0.7812\n",
      "Epoch 117: saving model to model/keypoint_classifier/keypoint_classifier.hdf5\n",
      "50/50 [==============================] - 0s 857us/step - loss: 0.7656 - accuracy: 0.7115 - val_loss: 0.4973 - val_accuracy: 0.9645\n",
      "Epoch 118/1000\n",
      " 1/50 [..............................] - ETA: 0s - loss: 0.7878 - accuracy: 0.6875\n",
      "Epoch 118: saving model to model/keypoint_classifier/keypoint_classifier.hdf5\n",
      "50/50 [==============================] - 0s 839us/step - loss: 0.7627 - accuracy: 0.7158 - val_loss: 0.4871 - val_accuracy: 0.9669\n",
      "Epoch 119/1000\n",
      " 1/50 [..............................] - ETA: 0s - loss: 0.8245 - accuracy: 0.6719\n",
      "Epoch 119: saving model to model/keypoint_classifier/keypoint_classifier.hdf5\n",
      "50/50 [==============================] - 0s 864us/step - loss: 0.7613 - accuracy: 0.7129 - val_loss: 0.5057 - val_accuracy: 0.9517\n",
      "Epoch 120/1000\n",
      " 1/50 [..............................] - ETA: 0s - loss: 0.7465 - accuracy: 0.7734\n",
      "Epoch 120: saving model to model/keypoint_classifier/keypoint_classifier.hdf5\n",
      "50/50 [==============================] - 0s 841us/step - loss: 0.7597 - accuracy: 0.7175 - val_loss: 0.5036 - val_accuracy: 0.9565\n",
      "Epoch 121/1000\n",
      " 1/50 [..............................] - ETA: 0s - loss: 0.7414 - accuracy: 0.7344\n",
      "Epoch 121: saving model to model/keypoint_classifier/keypoint_classifier.hdf5\n",
      "50/50 [==============================] - 0s 869us/step - loss: 0.7552 - accuracy: 0.7178 - val_loss: 0.5013 - val_accuracy: 0.9579\n",
      "Epoch 122/1000\n",
      " 1/50 [..............................] - ETA: 0s - loss: 0.8522 - accuracy: 0.6719\n",
      "Epoch 122: saving model to model/keypoint_classifier/keypoint_classifier.hdf5\n",
      "50/50 [==============================] - 0s 862us/step - loss: 0.7523 - accuracy: 0.7222 - val_loss: 0.4749 - val_accuracy: 0.9650\n",
      "Epoch 123/1000\n",
      " 1/50 [..............................] - ETA: 0s - loss: 0.7784 - accuracy: 0.6875\n",
      "Epoch 123: saving model to model/keypoint_classifier/keypoint_classifier.hdf5\n",
      "50/50 [==============================] - 0s 856us/step - loss: 0.7574 - accuracy: 0.7197 - val_loss: 0.5051 - val_accuracy: 0.9607\n",
      "Epoch 124/1000\n",
      " 1/50 [..............................] - ETA: 0s - loss: 0.7564 - accuracy: 0.6953\n",
      "Epoch 124: saving model to model/keypoint_classifier/keypoint_classifier.hdf5\n",
      "50/50 [==============================] - 0s 871us/step - loss: 0.7519 - accuracy: 0.7227 - val_loss: 0.4999 - val_accuracy: 0.9598\n",
      "Epoch 125/1000\n",
      " 1/50 [..............................] - ETA: 0s - loss: 0.7382 - accuracy: 0.6953\n",
      "Epoch 125: saving model to model/keypoint_classifier/keypoint_classifier.hdf5\n",
      "50/50 [==============================] - 0s 861us/step - loss: 0.7749 - accuracy: 0.7142 - val_loss: 0.5297 - val_accuracy: 0.9579\n",
      "Epoch 126/1000\n",
      " 1/50 [..............................] - ETA: 0s - loss: 0.7964 - accuracy: 0.7344\n",
      "Epoch 126: saving model to model/keypoint_classifier/keypoint_classifier.hdf5\n",
      "50/50 [==============================] - 0s 841us/step - loss: 0.7480 - accuracy: 0.7300 - val_loss: 0.4930 - val_accuracy: 0.9664\n",
      "Epoch 127/1000\n",
      " 1/50 [..............................] - ETA: 0s - loss: 0.7355 - accuracy: 0.7188\n",
      "Epoch 127: saving model to model/keypoint_classifier/keypoint_classifier.hdf5\n",
      "50/50 [==============================] - 0s 864us/step - loss: 0.7551 - accuracy: 0.7158 - val_loss: 0.4977 - val_accuracy: 0.9636\n",
      "Epoch 128/1000\n",
      " 1/50 [..............................] - ETA: 0s - loss: 0.7771 - accuracy: 0.7344\n",
      "Epoch 128: saving model to model/keypoint_classifier/keypoint_classifier.hdf5\n",
      "50/50 [==============================] - 0s 887us/step - loss: 0.7391 - accuracy: 0.7206 - val_loss: 0.4743 - val_accuracy: 0.9673\n",
      "Epoch 129/1000\n",
      " 1/50 [..............................] - ETA: 0s - loss: 0.8547 - accuracy: 0.6562\n",
      "Epoch 129: saving model to model/keypoint_classifier/keypoint_classifier.hdf5\n",
      "50/50 [==============================] - 0s 847us/step - loss: 0.7352 - accuracy: 0.7241 - val_loss: 0.4885 - val_accuracy: 0.9645\n",
      "Epoch 130/1000\n",
      " 1/50 [..............................] - ETA: 0s - loss: 0.6315 - accuracy: 0.7578\n",
      "Epoch 130: saving model to model/keypoint_classifier/keypoint_classifier.hdf5\n",
      "50/50 [==============================] - 0s 855us/step - loss: 0.7227 - accuracy: 0.7266 - val_loss: 0.4824 - val_accuracy: 0.9621\n",
      "Epoch 131/1000\n",
      " 1/50 [..............................] - ETA: 0s - loss: 0.8284 - accuracy: 0.7266\n",
      "Epoch 131: saving model to model/keypoint_classifier/keypoint_classifier.hdf5\n",
      "50/50 [==============================] - 0s 853us/step - loss: 0.7350 - accuracy: 0.7337 - val_loss: 0.4960 - val_accuracy: 0.9598\n",
      "Epoch 132/1000\n",
      " 1/50 [..............................] - ETA: 0s - loss: 0.8757 - accuracy: 0.6562\n",
      "Epoch 132: saving model to model/keypoint_classifier/keypoint_classifier.hdf5\n",
      "50/50 [==============================] - 0s 874us/step - loss: 0.7360 - accuracy: 0.7296 - val_loss: 0.5130 - val_accuracy: 0.9636\n",
      "Epoch 133/1000\n",
      " 1/50 [..............................] - ETA: 0s - loss: 0.7301 - accuracy: 0.7109\n",
      "Epoch 133: saving model to model/keypoint_classifier/keypoint_classifier.hdf5\n",
      "50/50 [==============================] - 0s 861us/step - loss: 0.7239 - accuracy: 0.7328 - val_loss: 0.4803 - val_accuracy: 0.9669\n",
      "Epoch 134/1000\n",
      " 1/50 [..............................] - ETA: 0s - loss: 0.6851 - accuracy: 0.7344\n",
      "Epoch 134: saving model to model/keypoint_classifier/keypoint_classifier.hdf5\n",
      "50/50 [==============================] - 0s 852us/step - loss: 0.7260 - accuracy: 0.7356 - val_loss: 0.4842 - val_accuracy: 0.9617\n",
      "Epoch 135/1000\n",
      " 1/50 [..............................] - ETA: 0s - loss: 0.7312 - accuracy: 0.7344\n",
      "Epoch 135: saving model to model/keypoint_classifier/keypoint_classifier.hdf5\n",
      "50/50 [==============================] - 0s 887us/step - loss: 0.7247 - accuracy: 0.7273 - val_loss: 0.4977 - val_accuracy: 0.9631\n"
     ]
    },
    {
     "name": "stdout",
     "output_type": "stream",
     "text": [
      "Epoch 136/1000\n",
      " 1/50 [..............................] - ETA: 0s - loss: 0.8251 - accuracy: 0.6875\n",
      "Epoch 136: saving model to model/keypoint_classifier/keypoint_classifier.hdf5\n",
      "50/50 [==============================] - 0s 866us/step - loss: 0.7185 - accuracy: 0.7306 - val_loss: 0.5117 - val_accuracy: 0.9593\n",
      "Epoch 136: early stopping\n"
     ]
    },
    {
     "data": {
      "text/plain": [
       "<keras.callbacks.History at 0x144b6f9a0>"
      ]
     },
     "execution_count": 11,
     "metadata": {},
     "output_type": "execute_result"
    }
   ],
   "source": [
    "model.fit(\n",
    "    X_train,\n",
    "    y_train,\n",
    "    epochs=1000,\n",
    "    batch_size=128,\n",
    "    validation_data=(X_test, y_test),\n",
    "    callbacks=[cp_callback, es_callback]\n",
    ")"
   ]
  },
  {
   "cell_type": "code",
   "execution_count": 12,
   "metadata": {},
   "outputs": [
    {
     "name": "stdout",
     "output_type": "stream",
     "text": [
      "17/17 [==============================] - 0s 379us/step - loss: 0.5117 - accuracy: 0.9593\n"
     ]
    }
   ],
   "source": [
    "# モデル評価\n",
    "val_loss, val_acc = model.evaluate(X_test, y_test, batch_size=128)"
   ]
  },
  {
   "cell_type": "code",
   "execution_count": 13,
   "metadata": {},
   "outputs": [],
   "source": [
    "# 保存したモデルのロード\n",
    "model = tf.keras.models.load_model(model_save_path)"
   ]
  },
  {
   "cell_type": "code",
   "execution_count": 14,
   "metadata": {},
   "outputs": [
    {
     "name": "stdout",
     "output_type": "stream",
     "text": [
      "1/1 [==============================] - 0s 31ms/step\n",
      "[1.6348401e-02 9.3688148e-01 1.2921352e-03 3.9532399e-03 4.8661535e-03\n",
      " 3.1766351e-05 1.5170165e-02 2.9924975e-03 1.2751032e-02 5.7132016e-03]\n",
      "1\n"
     ]
    }
   ],
   "source": [
    "# 推論テスト\n",
    "predict_result = model.predict(np.array([X_test[0]]))\n",
    "print(np.squeeze(predict_result))\n",
    "print(np.argmax(np.squeeze(predict_result)))"
   ]
  },
  {
   "cell_type": "markdown",
   "metadata": {},
   "source": [
    "# 混同行列"
   ]
  },
  {
   "cell_type": "code",
   "execution_count": 15,
   "metadata": {},
   "outputs": [
    {
     "name": "stdout",
     "output_type": "stream",
     "text": [
      "67/67 [==============================] - 0s 270us/step\n"
     ]
    },
    {
     "data": {
      "image/png": "[encoded data removed]",
      "text/plain": [
       "<Figure size 700x600 with 2 Axes>"
      ]
     },
     "metadata": {},
     "output_type": "display_data"
    },
    {
     "name": "stdout",
     "output_type": "stream",
     "text": [
      "Classification Report\n",
      "              precision    recall  f1-score   support\n",
      "\n",
      "           0       0.97      0.94      0.95       315\n",
      "           1       0.92      0.98      0.95       286\n",
      "           2       0.92      1.00      0.96       183\n",
      "           3       0.97      0.96      0.96       181\n",
      "           4       0.95      0.96      0.96       172\n",
      "           5       0.98      0.99      0.99       188\n",
      "           6       0.97      0.96      0.96       251\n",
      "           7       0.97      0.94      0.96       148\n",
      "           8       0.95      0.96      0.95       171\n",
      "           9       0.99      0.91      0.95       218\n",
      "\n",
      "    accuracy                           0.96      2113\n",
      "   macro avg       0.96      0.96      0.96      2113\n",
      "weighted avg       0.96      0.96      0.96      2113\n",
      "\n"
     ]
    }
   ],
   "source": [
    "import pandas as pd\n",
    "import seaborn as sns\n",
    "import matplotlib.pyplot as plt\n",
    "from sklearn.metrics import confusion_matrix, classification_report\n",
    "\n",
    "def print_confusion_matrix(y_true, y_pred, report=True):\n",
    "    labels = sorted(list(set(y_true)))\n",
    "    cmx_data = confusion_matrix(y_true, y_pred, labels=labels)\n",
    "    \n",
    "    df_cmx = pd.DataFrame(cmx_data, index=labels, columns=labels)\n",
    " \n",
    "    fig, ax = plt.subplots(figsize=(7, 6))\n",
    "    sns.heatmap(df_cmx, annot=True, fmt='g' ,square=False)\n",
    "    ax.set_ylim(len(set(y_true)), 0)\n",
    "    plt.show()\n",
    "    \n",
    "    if report:\n",
    "        print('Classification Report')\n",
    "        print(classification_report(y_test, y_pred))\n",
    "\n",
    "Y_pred = model.predict(X_test)\n",
    "y_pred = np.argmax(Y_pred, axis=1)\n",
    "\n",
    "print_confusion_matrix(y_test, y_pred)"
   ]
  },
  {
   "cell_type": "markdown",
   "metadata": {},
   "source": [
    "# Tensorflow-Lite用のモデルへ変換"
   ]
  },
  {
   "cell_type": "code",
   "execution_count": 16,
   "metadata": {},
   "outputs": [],
   "source": [
    "# 推論専用のモデルとして保存\n",
    "model.save(model_save_path, include_optimizer=False)"
   ]
  },
  {
   "cell_type": "code",
   "execution_count": 17,
   "metadata": {},
   "outputs": [
    {
     "name": "stdout",
     "output_type": "stream",
     "text": [
      "INFO:tensorflow:Assets written to: /var/folders/gf/vqbgrt4s6n12hhx9nykkb_dc0000gn/T/tmp3_eyeddq/assets\n"
     ]
    },
    {
     "name": "stderr",
     "output_type": "stream",
     "text": [
      "2023-07-12 13:54:44.526186: W tensorflow/compiler/mlir/lite/python/tf_tfl_flatbuffer_helpers.cc:362] Ignored output_format.\n",
      "2023-07-12 13:54:44.526211: W tensorflow/compiler/mlir/lite/python/tf_tfl_flatbuffer_helpers.cc:365] Ignored drop_control_dependency.\n",
      "2023-07-12 13:54:44.526624: I tensorflow/cc/saved_model/reader.cc:45] Reading SavedModel from: /var/folders/gf/vqbgrt4s6n12hhx9nykkb_dc0000gn/T/tmp3_eyeddq\n",
      "2023-07-12 13:54:44.527461: I tensorflow/cc/saved_model/reader.cc:89] Reading meta graph with tags { serve }\n",
      "2023-07-12 13:54:44.527465: I tensorflow/cc/saved_model/reader.cc:130] Reading SavedModel debug info (if present) from: /var/folders/gf/vqbgrt4s6n12hhx9nykkb_dc0000gn/T/tmp3_eyeddq\n",
      "2023-07-12 13:54:44.529562: I tensorflow/compiler/mlir/mlir_graph_optimization_pass.cc:354] MLIR V1 optimization pass is not enabled\n",
      "2023-07-12 13:54:44.530066: I tensorflow/cc/saved_model/loader.cc:229] Restoring SavedModel bundle.\n",
      "2023-07-12 13:54:44.553448: I tensorflow/cc/saved_model/loader.cc:213] Running initialization op on SavedModel bundle at path: /var/folders/gf/vqbgrt4s6n12hhx9nykkb_dc0000gn/T/tmp3_eyeddq\n",
      "2023-07-12 13:54:44.558273: I tensorflow/cc/saved_model/loader.cc:305] SavedModel load for tags { serve }; Status: success: OK. Took 31653 microseconds.\n",
      "2023-07-12 13:54:44.578802: I tensorflow/compiler/mlir/tensorflow/utils/dump_mlir_util.cc:268] disabling MLIR crash reproducer, set env var `MLIR_CRASH_REPRODUCER_DIRECTORY` to enable.\n"
     ]
    },
    {
     "data": {
      "text/plain": [
       "6808"
      ]
     },
     "execution_count": 17,
     "metadata": {},
     "output_type": "execute_result"
    }
   ],
   "source": [
    "# モデルを変換(量子化)\n",
    "tflite_save_path = 'model/keypoint_classifier/keypoint_classifier.tflite'\n",
    "\n",
    "converter = tf.lite.TFLiteConverter.from_keras_model(model)\n",
    "converter.optimizations = [tf.lite.Optimize.DEFAULT]\n",
    "tflite_quantized_model = converter.convert()\n",
    "\n",
    "open(tflite_save_path, 'wb').write(tflite_quantized_model)"
   ]
  },
  {
   "cell_type": "markdown",
   "metadata": {},
   "source": [
    "# 推論テスト"
   ]
  },
  {
   "cell_type": "code",
   "execution_count": 18,
   "metadata": {},
   "outputs": [
    {
     "name": "stderr",
     "output_type": "stream",
     "text": [
      "INFO: Initialized TensorFlow Lite runtime.\n",
      "INFO: Applying 1 TensorFlow Lite delegate(s) lazily.\n"
     ]
    }
   ],
   "source": [
    "interpreter = tf.lite.Interpreter(model_path=tflite_save_path)\n",
    "interpreter.allocate_tensors()"
   ]
  },
  {
   "cell_type": "code",
   "execution_count": 19,
   "metadata": {},
   "outputs": [],
   "source": [
    "# 入出力テンソルを取得\n",
    "input_details = interpreter.get_input_details()\n",
    "output_details = interpreter.get_output_details()"
   ]
  },
  {
   "cell_type": "code",
   "execution_count": 20,
   "metadata": {},
   "outputs": [],
   "source": [
    "interpreter.set_tensor(input_details[0]['index'], np.array([X_test[0]]))"
   ]
  },
  {
   "cell_type": "code",
   "execution_count": 21,
   "metadata": {
    "scrolled": true
   },
   "outputs": [
    {
     "name": "stdout",
     "output_type": "stream",
     "text": [
      "CPU times: user 314 µs, sys: 511 µs, total: 825 µs\n",
      "Wall time: 505 µs\n"
     ]
    }
   ],
   "source": [
    "%%time\n",
    "# 推論実施\n",
    "interpreter.invoke()\n",
    "tflite_results = interpreter.get_tensor(output_details[0]['index'])"
   ]
  },
  {
   "cell_type": "markdown",
   "metadata": {},
   "source": [
    "# print(np.squeeze(tflite_results))\n",
    "print(np.argmax(np.squeeze(tflite_results)))"
   ]
  }
 ],
 "metadata": {
  "kernelspec": {
   "display_name": "Python 3 (ipykernel)",
   "language": "python",
   "name": "python3"
  },
  "language_info": {
   "codemirror_mode": {
    "name": "ipython",
    "version": 3
   },
   "file_extension": ".py",
   "mimetype": "text/x-python",
   "name": "python",
   "nbconvert_exporter": "python",
   "pygments_lexer": "ipython3",
   "version": "3.10.9"
  }
 },
 "nbformat": 4,
 "nbformat_minor": 4
}
