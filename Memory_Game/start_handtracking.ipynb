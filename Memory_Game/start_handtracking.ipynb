{
 "cells": [
  {
   "cell_type": "code",
   "execution_count": 2,
   "id": "366b2bd8-fb4c-41c6-8bb9-e3eacc2c860a",
   "metadata": {},
   "outputs": [
    {
     "name": "stderr",
     "output_type": "stream",
     "text": [
      "INFO: Created TensorFlow Lite XNNPACK delegate for CPU.\n",
      "INFO: Created TensorFlow Lite XNNPACK delegate for CPU.\n",
      "Traceback (most recent call last):\n",
      "  File \"C:\\Users\\Onurs\\kusrp\\Hand Gesture\\app.py\", line 552, in <module>\n",
      "    main()\n",
      "  File \"C:\\Users\\Onurs\\kusrp\\Hand Gesture\\app.py\", line 152, in main\n",
      "    hand_sign_id = hand_sign_id +\"AAA\"\n",
      "numpy.core._exceptions._UFuncNoLoopError: ufunc 'add' did not contain a loop with signature matching types (dtype('int64'), dtype('<U3')) -> None\n"
     ]
    }
   ],
   "source": [
    "!python app.py --device 0 --width 960 --height 540 --use_static_image_mode --min_detection_confidence 0.7 \n"
   ]
  },
  {
   "cell_type": "code",
   "execution_count": null,
   "id": "bb31d7fa-0350-42eb-86ad-045515d1c47c",
   "metadata": {},
   "outputs": [],
   "source": []
  }
 ],
 "metadata": {
  "kernelspec": {
   "display_name": "Python 3 (ipykernel)",
   "language": "python",
   "name": "python3"
  },
  "language_info": {
   "codemirror_mode": {
    "name": "ipython",
    "version": 3
   },
   "file_extension": ".py",
   "mimetype": "text/x-python",
   "name": "python",
   "nbconvert_exporter": "python",
   "pygments_lexer": "ipython3",
   "version": "3.9.12"
  }
 },
 "nbformat": 4,
 "nbformat_minor": 5
}
